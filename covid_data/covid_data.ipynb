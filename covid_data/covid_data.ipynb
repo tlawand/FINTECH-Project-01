{
 "cells": [
  {
   "cell_type": "code",
   "execution_count": 2,
   "metadata": {},
   "outputs": [],
   "source": [
    "# Import modules\n",
    "import pandas as pd\n",
    "import requests\n",
    "import datetime as dt\n",
    "import time"
   ]
  },
  {
   "cell_type": "code",
   "execution_count": 3,
   "metadata": {},
   "outputs": [],
   "source": [
    "# Download csv from URL and allow 10 seconds before moving to the next cell for file to update\n",
    "url = \"https://covid.ourworldindata.org/data/owid-covid-data.csv\"\n",
    "file_request = requests.get(url, allow_redirects=True)\n",
    "with open(\"covid_cases.csv\", \"wb\") as file:\n",
    "    file.write(file_request.content)\n",
    "time.sleep(10) "
   ]
  },
  {
   "cell_type": "code",
   "execution_count": 4,
   "metadata": {},
   "outputs": [],
   "source": [
    "# Read csv into DataFrame\n",
    "covid_df = pd.read_csv('covid_cases.csv')"
   ]
  },
  {
   "cell_type": "code",
   "execution_count": 4,
   "metadata": {},
   "outputs": [
    {
     "data": {
      "text/html": [
       "<div>\n",
       "<style scoped>\n",
       "    .dataframe tbody tr th:only-of-type {\n",
       "        vertical-align: middle;\n",
       "    }\n",
       "\n",
       "    .dataframe tbody tr th {\n",
       "        vertical-align: top;\n",
       "    }\n",
       "\n",
       "    .dataframe thead th {\n",
       "        text-align: right;\n",
       "    }\n",
       "</style>\n",
       "<table border=\"1\" class=\"dataframe\">\n",
       "  <thead>\n",
       "    <tr style=\"text-align: right;\">\n",
       "      <th></th>\n",
<<<<<<< HEAD
       "      <th>date</th>\n",
       "      <th>total_cases</th>\n",
       "      <th>new_cases</th>\n",
       "      <th>total_cases_per_million</th>\n",
       "      <th>new_cases_per_million</th>\n",
=======
       "      <th>cases</th>\n",
       "      <th>deaths</th>\n",
>>>>>>> master
       "    </tr>\n",
       "    <tr>\n",
       "      <th>date</th>\n",
       "      <th></th>\n",
       "      <th></th>\n",
       "    </tr>\n",
       "  </thead>\n",
       "  <tbody>\n",
       "    <tr>\n",
<<<<<<< HEAD
       "      <th>16577</th>\n",
       "      <td>2019-12-31</td>\n",
=======
       "      <th>2020-01-21</th>\n",
       "      <td>1</td>\n",
>>>>>>> master
       "      <td>0</td>\n",
       "      <td>0</td>\n",
       "      <td>0.000</td>\n",
       "      <td>0.000</td>\n",
       "    </tr>\n",
       "    <tr>\n",
<<<<<<< HEAD
       "      <th>16578</th>\n",
       "      <td>2020-01-01</td>\n",
       "      <td>0</td>\n",
=======
       "      <th>2020-01-22</th>\n",
       "      <td>1</td>\n",
>>>>>>> master
       "      <td>0</td>\n",
       "      <td>0.000</td>\n",
       "      <td>0.000</td>\n",
       "    </tr>\n",
       "    <tr>\n",
<<<<<<< HEAD
       "      <th>16579</th>\n",
       "      <td>2020-01-02</td>\n",
=======
       "      <th>2020-01-23</th>\n",
       "      <td>1</td>\n",
>>>>>>> master
       "      <td>0</td>\n",
       "      <td>0</td>\n",
       "      <td>0.000</td>\n",
       "      <td>0.000</td>\n",
       "    </tr>\n",
       "    <tr>\n",
<<<<<<< HEAD
       "      <th>16580</th>\n",
       "      <td>2020-01-03</td>\n",
       "      <td>0</td>\n",
=======
       "      <th>2020-01-24</th>\n",
       "      <td>2</td>\n",
>>>>>>> master
       "      <td>0</td>\n",
       "      <td>0.000</td>\n",
       "      <td>0.000</td>\n",
       "    </tr>\n",
       "    <tr>\n",
<<<<<<< HEAD
       "      <th>16581</th>\n",
       "      <td>2020-01-04</td>\n",
=======
       "      <th>2020-01-25</th>\n",
       "      <td>3</td>\n",
>>>>>>> master
       "      <td>0</td>\n",
       "      <td>0</td>\n",
       "      <td>0.000</td>\n",
       "      <td>0.000</td>\n",
       "    </tr>\n",
       "    <tr>\n",
       "      <th>...</th>\n",
       "      <td>...</td>\n",
       "      <td>...</td>\n",
       "      <td>...</td>\n",
       "      <td>...</td>\n",
       "      <td>...</td>\n",
       "    </tr>\n",
       "    <tr>\n",
       "      <th>16710</th>\n",
       "      <td>2020-05-12</td>\n",
       "      <td>1347916</td>\n",
       "      <td>18117</td>\n",
       "      <td>4072.221</td>\n",
       "      <td>54.734</td>\n",
       "    </tr>\n",
       "    <tr>\n",
       "      <th>16711</th>\n",
       "      <td>2020-05-13</td>\n",
       "      <td>1369964</td>\n",
       "      <td>22048</td>\n",
       "      <td>4138.831</td>\n",
       "      <td>66.610</td>\n",
       "    </tr>\n",
       "    <tr>\n",
       "      <th>16712</th>\n",
       "      <td>2020-05-14</td>\n",
       "      <td>1390746</td>\n",
       "      <td>20782</td>\n",
       "      <td>4201.616</td>\n",
       "      <td>62.785</td>\n",
       "    </tr>\n",
       "    <tr>\n",
       "      <th>16713</th>\n",
       "      <td>2020-05-15</td>\n",
       "      <td>1417889</td>\n",
       "      <td>27143</td>\n",
       "      <td>4283.618</td>\n",
       "      <td>82.002</td>\n",
       "    </tr>\n",
       "    <tr>\n",
       "      <th>16714</th>\n",
       "      <td>2020-05-16</td>\n",
       "      <td>1443397</td>\n",
       "      <td>25508</td>\n",
       "      <td>4360.681</td>\n",
       "      <td>77.063</td>\n",
       "    </tr>\n",
       "  </tbody>\n",
       "</table>\n",
       "<p>138 rows × 5 columns</p>\n",
       "</div>"
      ],
      "text/plain": [
<<<<<<< HEAD
       "             date  total_cases  new_cases  total_cases_per_million  \\\n",
       "16577  2019-12-31            0          0                    0.000   \n",
       "16578  2020-01-01            0          0                    0.000   \n",
       "16579  2020-01-02            0          0                    0.000   \n",
       "16580  2020-01-03            0          0                    0.000   \n",
       "16581  2020-01-04            0          0                    0.000   \n",
       "...           ...          ...        ...                      ...   \n",
       "16710  2020-05-12      1347916      18117                 4072.221   \n",
       "16711  2020-05-13      1369964      22048                 4138.831   \n",
       "16712  2020-05-14      1390746      20782                 4201.616   \n",
       "16713  2020-05-15      1417889      27143                 4283.618   \n",
       "16714  2020-05-16      1443397      25508                 4360.681   \n",
       "\n",
       "       new_cases_per_million  \n",
       "16577                  0.000  \n",
       "16578                  0.000  \n",
       "16579                  0.000  \n",
       "16580                  0.000  \n",
       "16581                  0.000  \n",
       "...                      ...  \n",
       "16710                 54.734  \n",
       "16711                 66.610  \n",
       "16712                 62.785  \n",
       "16713                 82.002  \n",
       "16714                 77.063  \n",
       "\n",
       "[138 rows x 5 columns]"
=======
       "            cases  deaths\n",
       "date                     \n",
       "2020-01-21      1       0\n",
       "2020-01-22      1       0\n",
       "2020-01-23      1       0\n",
       "2020-01-24      2       0\n",
       "2020-01-25      3       0"
>>>>>>> master
      ]
     },
     "execution_count": 4,
     "metadata": {},
     "output_type": "execute_result"
    }
   ],
   "source": [
<<<<<<< HEAD
    "us_cases_lkup = (covid_df['iso_code'] == 'USA')\n",
    "us_cases_df = covid_df.loc[us_cases_lkup]\n",
    "us_cases_df = us_cases_df[['date', 'total_cases', 'new_cases', 'total_cases_per_million', 'new_cases_per_million']]\n",
    "us_cases_df"
=======
    "# Read csv into DataFrame\n",
    "covid_df = pd.read_csv(\n",
    "    'covid_cases_us.csv',\n",
    "    index_col='date',\n",
    "    parse_dates=True,\n",
    "    infer_datetime_format=True\n",
    ")\n",
    "covid_df.head()"
   ]
  },
  {
   "cell_type": "code",
   "execution_count": 5,
   "metadata": {},
   "outputs": [],
   "source": [
    "# sort index in ascending order\n",
    "covid_df.sort_index(inplace=True)"
>>>>>>> master
   ]
  },
  {
   "cell_type": "code",
   "execution_count": 8,
   "metadata": {},
   "outputs": [
    {
     "data": {
      "text/html": [
       "<div>\n",
       "<style scoped>\n",
       "    .dataframe tbody tr th:only-of-type {\n",
       "        vertical-align: middle;\n",
       "    }\n",
       "\n",
       "    .dataframe tbody tr th {\n",
       "        vertical-align: top;\n",
       "    }\n",
       "\n",
       "    .dataframe thead th {\n",
       "        text-align: right;\n",
       "    }\n",
       "</style>\n",
       "<table border=\"1\" class=\"dataframe\">\n",
       "  <thead>\n",
       "    <tr style=\"text-align: right;\">\n",
       "      <th></th>\n",
       "      <th>total_cases</th>\n",
       "      <th>new_cases</th>\n",
       "      <th>total_cases_per_million</th>\n",
       "      <th>new_cases_per_million</th>\n",
       "    </tr>\n",
       "    <tr>\n",
       "      <th>date</th>\n",
       "      <th></th>\n",
       "      <th></th>\n",
       "      <th></th>\n",
       "      <th></th>\n",
       "    </tr>\n",
       "  </thead>\n",
       "  <tbody>\n",
       "    <tr>\n",
<<<<<<< HEAD
       "      <th>2019-12-31</th>\n",
       "      <td>0</td>\n",
       "      <td>0</td>\n",
       "      <td>0.000</td>\n",
       "      <td>0.000</td>\n",
       "    </tr>\n",
       "    <tr>\n",
       "      <th>2020-01-01</th>\n",
       "      <td>0</td>\n",
       "      <td>0</td>\n",
       "      <td>0.000</td>\n",
       "      <td>0.000</td>\n",
       "    </tr>\n",
       "    <tr>\n",
       "      <th>2020-01-02</th>\n",
       "      <td>0</td>\n",
       "      <td>0</td>\n",
       "      <td>0.000</td>\n",
       "      <td>0.000</td>\n",
       "    </tr>\n",
       "    <tr>\n",
       "      <th>2020-01-03</th>\n",
       "      <td>0</td>\n",
       "      <td>0</td>\n",
       "      <td>0.000</td>\n",
       "      <td>0.000</td>\n",
       "    </tr>\n",
       "    <tr>\n",
       "      <th>2020-01-04</th>\n",
       "      <td>0</td>\n",
       "      <td>0</td>\n",
       "      <td>0.000</td>\n",
       "      <td>0.000</td>\n",
       "    </tr>\n",
       "    <tr>\n",
       "      <th>...</th>\n",
       "      <td>...</td>\n",
       "      <td>...</td>\n",
       "      <td>...</td>\n",
       "      <td>...</td>\n",
       "    </tr>\n",
       "    <tr>\n",
       "      <th>2020-05-12</th>\n",
       "      <td>1347916</td>\n",
       "      <td>18117</td>\n",
       "      <td>4072.221</td>\n",
       "      <td>54.734</td>\n",
=======
       "      <th>2020-01-21</th>\n",
       "      <td>1</td>\n",
       "      <td>0</td>\n",
       "    </tr>\n",
       "    <tr>\n",
       "      <th>2020-01-22</th>\n",
       "      <td>1</td>\n",
       "      <td>0</td>\n",
       "    </tr>\n",
       "    <tr>\n",
       "      <th>2020-01-23</th>\n",
       "      <td>1</td>\n",
       "      <td>0</td>\n",
       "    </tr>\n",
       "    <tr>\n",
       "      <th>2020-01-24</th>\n",
       "      <td>2</td>\n",
       "      <td>0</td>\n",
       "    </tr>\n",
       "    <tr>\n",
       "      <th>2020-01-25</th>\n",
       "      <td>3</td>\n",
       "      <td>0</td>\n",
       "    </tr>\n",
       "  </tbody>\n",
       "</table>\n",
       "</div>"
      ],
      "text/plain": [
       "            cases  deaths\n",
       "date                     \n",
       "2020-01-21      1       0\n",
       "2020-01-22      1       0\n",
       "2020-01-23      1       0\n",
       "2020-01-24      2       0\n",
       "2020-01-25      3       0"
      ]
     },
     "execution_count": 8,
     "metadata": {},
     "output_type": "execute_result"
    }
   ],
   "source": [
    "# Lookup dates between January 21, 2020 and April 30, 2020 then set the index to 'date'\n",
    "covid_df = covid_df.loc['2020-01-21':'2020-04-30',:]\n",
    "covid_df.head()"
   ]
  },
  {
   "cell_type": "code",
   "execution_count": 9,
   "metadata": {},
   "outputs": [
    {
     "data": {
      "text/html": [
       "<div>\n",
       "<style scoped>\n",
       "    .dataframe tbody tr th:only-of-type {\n",
       "        vertical-align: middle;\n",
       "    }\n",
       "\n",
       "    .dataframe tbody tr th {\n",
       "        vertical-align: top;\n",
       "    }\n",
       "\n",
       "    .dataframe thead th {\n",
       "        text-align: right;\n",
       "    }\n",
       "</style>\n",
       "<table border=\"1\" class=\"dataframe\">\n",
       "  <thead>\n",
       "    <tr style=\"text-align: right;\">\n",
       "      <th></th>\n",
       "      <th>cases</th>\n",
       "      <th>deaths</th>\n",
       "    </tr>\n",
       "    <tr>\n",
       "      <th>date</th>\n",
       "      <th></th>\n",
       "      <th></th>\n",
       "    </tr>\n",
       "  </thead>\n",
       "  <tbody>\n",
       "    <tr>\n",
       "      <th>2020-04-26</th>\n",
       "      <td>970325</td>\n",
       "      <td>54437</td>\n",
>>>>>>> master
       "    </tr>\n",
       "    <tr>\n",
       "      <th>2020-05-13</th>\n",
       "      <td>1369964</td>\n",
       "      <td>22048</td>\n",
       "      <td>4138.831</td>\n",
       "      <td>66.610</td>\n",
       "    </tr>\n",
       "    <tr>\n",
       "      <th>2020-05-14</th>\n",
       "      <td>1390746</td>\n",
       "      <td>20782</td>\n",
       "      <td>4201.616</td>\n",
       "      <td>62.785</td>\n",
       "    </tr>\n",
       "    <tr>\n",
       "      <th>2020-05-15</th>\n",
       "      <td>1417889</td>\n",
       "      <td>27143</td>\n",
       "      <td>4283.618</td>\n",
       "      <td>82.002</td>\n",
       "    </tr>\n",
       "    <tr>\n",
       "      <th>2020-05-16</th>\n",
       "      <td>1443397</td>\n",
       "      <td>25508</td>\n",
       "      <td>4360.681</td>\n",
       "      <td>77.063</td>\n",
       "    </tr>\n",
       "  </tbody>\n",
       "</table>\n",
<<<<<<< HEAD
       "<p>138 rows × 4 columns</p>\n",
       "</div>"
      ],
      "text/plain": [
       "            total_cases  new_cases  total_cases_per_million  \\\n",
       "date                                                          \n",
       "2019-12-31            0          0                    0.000   \n",
       "2020-01-01            0          0                    0.000   \n",
       "2020-01-02            0          0                    0.000   \n",
       "2020-01-03            0          0                    0.000   \n",
       "2020-01-04            0          0                    0.000   \n",
       "...                 ...        ...                      ...   \n",
       "2020-05-12      1347916      18117                 4072.221   \n",
       "2020-05-13      1369964      22048                 4138.831   \n",
       "2020-05-14      1390746      20782                 4201.616   \n",
       "2020-05-15      1417889      27143                 4283.618   \n",
       "2020-05-16      1443397      25508                 4360.681   \n",
       "\n",
       "            new_cases_per_million  \n",
       "date                               \n",
       "2019-12-31                  0.000  \n",
       "2020-01-01                  0.000  \n",
       "2020-01-02                  0.000  \n",
       "2020-01-03                  0.000  \n",
       "2020-01-04                  0.000  \n",
       "...                           ...  \n",
       "2020-05-12                 54.734  \n",
       "2020-05-13                 66.610  \n",
       "2020-05-14                 62.785  \n",
       "2020-05-15                 82.002  \n",
       "2020-05-16                 77.063  \n",
       "\n",
       "[138 rows x 4 columns]"
=======
       "</div>"
      ],
      "text/plain": [
       "              cases  deaths\n",
       "date                       \n",
       "2020-04-26   970325   54437\n",
       "2020-04-27   993674   55988\n",
       "2020-04-28  1018326   58383\n",
       "2020-04-29  1045116   60897\n",
       "2020-04-30  1075530   63108"
>>>>>>> master
      ]
     },
     "execution_count": 9,
     "metadata": {},
     "output_type": "execute_result"
    }
   ],
   "source": [
<<<<<<< HEAD
    "# Convert 'date' values to datetime and sort by date\n",
    "us_cases_df['date'] = pd.to_datetime(covid_df['date'])\n",
    "us_cases_df.sort_values(by=['date'],inplace=True)\n",
    "us_cases_df.set_index(['date'], inplace=True)\n",
    "us_cases_df"
=======
    "covid_df.tail()"
>>>>>>> master
   ]
  },
  {
   "cell_type": "code",
<<<<<<< HEAD
   "execution_count": 6,
   "metadata": {},
   "outputs": [],
   "source": [
    "# Export cleaned data to csv\n",
    "us_cases_df.to_csv('covid_clean.csv')"
   ]
  },
  {
   "cell_type": "code",
   "execution_count": null,
   "metadata": {},
   "outputs": [],
   "source": []
  },
  {
   "cell_type": "code",
=======
>>>>>>> master
   "execution_count": null,
   "metadata": {},
   "outputs": [],
   "source": []
  }
 ],
 "metadata": {
  "kernelspec": {
   "display_name": "Python 3",
   "language": "python",
   "name": "python3"
  },
  "language_info": {
   "codemirror_mode": {
    "name": "ipython",
    "version": 3
   },
   "file_extension": ".py",
   "mimetype": "text/x-python",
   "name": "python",
   "nbconvert_exporter": "python",
   "pygments_lexer": "ipython3",
   "version": "3.7.7"
  }
 },
 "nbformat": 4,
 "nbformat_minor": 4
}
